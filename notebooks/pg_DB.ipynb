{
 "cells": [
  {
   "cell_type": "code",
   "execution_count": 1,
   "metadata": {},
   "outputs": [
    {
     "name": "stderr",
     "output_type": "stream",
     "text": [
      "C:\\Users\\DawitMulie\\AppData\\Local\\Temp\\ipykernel_26256\\2421957136.py:5: MovedIn20Warning: The ``declarative_base()`` function is now available as sqlalchemy.orm.declarative_base(). (deprecated since: 2.0) (Background on SQLAlchemy 2.0 at: https://sqlalche.me/e/b8d9)\n",
      "  Base = declarative_base()\n"
     ]
    }
   ],
   "source": [
    "from sqlalchemy import Column, Integer, String, Text, Float, TIMESTAMP, ForeignKey\n",
    "from sqlalchemy.orm import relationship\n",
    "from sqlalchemy.ext.declarative import declarative_base\n",
    "\n",
    "Base = declarative_base()\n",
    "\n",
    "class Article(Base):\n",
    "    __tablename__ = 'articles'\n",
    "\n",
    "    article_id = Column(String(255), primary_key=True)\n",
    "    source_id = Column(String(255))\n",
    "    source_name = Column(String(255))\n",
    "    author = Column(String(255))\n",
    "    title = Column(Text)\n",
    "    description = Column(Text)\n",
    "    url = Column(Text)\n",
    "    url_to_image = Column(Text)\n",
    "    published_at = Column(TIMESTAMP(timezone=True))\n",
    "    content = Column(Text)\n",
    "    category = Column(String(255))\n",
    "    article = Column(Text)\n",
    "    title_sentiment = Column(Float)\n",
    "\n",
    "class TrafficData(Base):\n",
    "    __tablename__ = 'traffic_data'\n",
    "\n",
    "    traffic_id = Column(Integer, primary_key=True)\n",
    "    GlobalRank = Column(Integer)\n",
    "    TldRank = Column(Integer)\n",
    "    Domain = Column(String(255), unique=True)\n",
    "    TLD = Column(String(10))\n",
    "    RefSubNets = Column(Integer)\n",
    "    RefIPs = Column(Integer)\n",
    "    IDN_Domain = Column(String(255))\n",
    "    IDN_TLD = Column(String(10))\n",
    "    PrevGlobalRank = Column(Integer)\n",
    "    PrevTldRank = Column(Integer)\n",
    "    PrevRefSubNets = Column(Integer)\n",
    "    PrevRefIPs = Column(Integer)\n",
    "\n",
    "class DomainLocation(Base):\n",
    "    __tablename__ = 'domain_location'\n",
    "\n",
    "    location_id = Column(Integer, primary_key=True)\n",
    "    SourceCommonName = Column(String(255))\n",
    "    location = Column(String(2))\n",
    "    traffic_data_domain = Column(String(255), ForeignKey('traffic_data.Domain'))\n",
    "\n",
    "    traffic_data = relationship(\"TrafficData\", back_populates=\"domain_location\")"
   ]
  }
 ],
 "metadata": {
  "kernelspec": {
   "display_name": "myenv",
   "language": "python",
   "name": "python3"
  },
  "language_info": {
   "codemirror_mode": {
    "name": "ipython",
    "version": 3
   },
   "file_extension": ".py",
   "mimetype": "text/x-python",
   "name": "python",
   "nbconvert_exporter": "python",
   "pygments_lexer": "ipython3",
   "version": "3.12.3"
  }
 },
 "nbformat": 4,
 "nbformat_minor": 2
}
